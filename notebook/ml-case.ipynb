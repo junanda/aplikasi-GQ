{
 "cells": [
  {
   "cell_type": "code",
   "execution_count": null,
   "metadata": {},
   "outputs": [],
   "source": [
    "import pandas as pd"
   ]
  }
 ],
 "metadata": {
  "kernelspec": {
   "display_name": "penelitian_mera",
   "language": "python",
   "name": "penelitian_mera"
  },
  "language_info": {
   "name": "python",
   "version": "3.7.3 (default, Mar 27 2019, 22:11:17) \n[GCC 7.3.0]"
  },
  "orig_nbformat": 4,
  "vscode": {
   "interpreter": {
    "hash": "896518f8610186a5720ab50ea33d0a4b5a2e8bb1ab96eec38f205eae557d569b"
   }
  }
 },
 "nbformat": 4,
 "nbformat_minor": 2
}
