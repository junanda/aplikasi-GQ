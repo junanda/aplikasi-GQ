{
 "cells": [
  {
   "cell_type": "code",
   "execution_count": 43,
   "id": "30d03e57",
   "metadata": {},
   "outputs": [
    {
     "name": "stdout",
     "output_type": "stream",
     "text": [
      "(254, 8)\n"
     ]
    },
    {
     "data": {
      "text/html": [
       "<div>\n",
       "<style scoped>\n",
       "    .dataframe tbody tr th:only-of-type {\n",
       "        vertical-align: middle;\n",
       "    }\n",
       "\n",
       "    .dataframe tbody tr th {\n",
       "        vertical-align: top;\n",
       "    }\n",
       "\n",
       "    .dataframe thead th {\n",
       "        text-align: right;\n",
       "    }\n",
       "</style>\n",
       "<table border=\"1\" class=\"dataframe\">\n",
       "  <thead>\n",
       "    <tr style=\"text-align: right;\">\n",
       "      <th></th>\n",
       "      <th>NO</th>\n",
       "      <th>NAMA</th>\n",
       "      <th>NILAI SKP</th>\n",
       "      <th>ORIENTASI</th>\n",
       "      <th>INTEGRITAS</th>\n",
       "      <th>KOMITMEN</th>\n",
       "      <th>DISIPLIN</th>\n",
       "      <th>KERJASAMA</th>\n",
       "    </tr>\n",
       "  </thead>\n",
       "  <tbody>\n",
       "    <tr>\n",
       "      <th>0</th>\n",
       "      <td>1</td>\n",
       "      <td>ADAM</td>\n",
       "      <td>96.70</td>\n",
       "      <td>91.00</td>\n",
       "      <td>90.00</td>\n",
       "      <td>90.00</td>\n",
       "      <td>91.00</td>\n",
       "      <td>90.00</td>\n",
       "    </tr>\n",
       "    <tr>\n",
       "      <th>1</th>\n",
       "      <td>2</td>\n",
       "      <td>AGUS KUSUMA WARDANA</td>\n",
       "      <td>83.67</td>\n",
       "      <td>90.00</td>\n",
       "      <td>85.00</td>\n",
       "      <td>80.00</td>\n",
       "      <td>85.00</td>\n",
       "      <td>85.00</td>\n",
       "    </tr>\n",
       "    <tr>\n",
       "      <th>2</th>\n",
       "      <td>3</td>\n",
       "      <td>AGUS SOFYAN</td>\n",
       "      <td>89.52</td>\n",
       "      <td>84.00</td>\n",
       "      <td>85.00</td>\n",
       "      <td>85.00</td>\n",
       "      <td>85.00</td>\n",
       "      <td>84.00</td>\n",
       "    </tr>\n",
       "    <tr>\n",
       "      <th>3</th>\n",
       "      <td>4</td>\n",
       "      <td>AHYAR</td>\n",
       "      <td>88.67</td>\n",
       "      <td>91.00</td>\n",
       "      <td>82.00</td>\n",
       "      <td>85.00</td>\n",
       "      <td>85.00</td>\n",
       "      <td>81.00</td>\n",
       "    </tr>\n",
       "    <tr>\n",
       "      <th>4</th>\n",
       "      <td>5</td>\n",
       "      <td>AMRIN JAYA WARDI</td>\n",
       "      <td>85.45</td>\n",
       "      <td>78.00</td>\n",
       "      <td>83.00</td>\n",
       "      <td>77.00</td>\n",
       "      <td>78.00</td>\n",
       "      <td>78.00</td>\n",
       "    </tr>\n",
       "    <tr>\n",
       "      <th>...</th>\n",
       "      <td>...</td>\n",
       "      <td>...</td>\n",
       "      <td>...</td>\n",
       "      <td>...</td>\n",
       "      <td>...</td>\n",
       "      <td>...</td>\n",
       "      <td>...</td>\n",
       "      <td>...</td>\n",
       "    </tr>\n",
       "    <tr>\n",
       "      <th>249</th>\n",
       "      <td>250</td>\n",
       "      <td>Musleh</td>\n",
       "      <td>84.00</td>\n",
       "      <td>84.00</td>\n",
       "      <td>84.00</td>\n",
       "      <td>84.17</td>\n",
       "      <td>83.67</td>\n",
       "      <td>84.17</td>\n",
       "    </tr>\n",
       "    <tr>\n",
       "      <th>250</th>\n",
       "      <td>251</td>\n",
       "      <td>Fitra Hadi</td>\n",
       "      <td>88.00</td>\n",
       "      <td>86.00</td>\n",
       "      <td>86.05</td>\n",
       "      <td>87.42</td>\n",
       "      <td>86.28</td>\n",
       "      <td>88.77</td>\n",
       "    </tr>\n",
       "    <tr>\n",
       "      <th>251</th>\n",
       "      <td>252</td>\n",
       "      <td>Zulkarnaen M</td>\n",
       "      <td>89.00</td>\n",
       "      <td>86.00</td>\n",
       "      <td>86.00</td>\n",
       "      <td>86.00</td>\n",
       "      <td>86.00</td>\n",
       "      <td>86.00</td>\n",
       "    </tr>\n",
       "    <tr>\n",
       "      <th>252</th>\n",
       "      <td>253</td>\n",
       "      <td>Nur Sahan</td>\n",
       "      <td>82.00</td>\n",
       "      <td>84.83</td>\n",
       "      <td>85.00</td>\n",
       "      <td>85.17</td>\n",
       "      <td>84.17</td>\n",
       "      <td>85.17</td>\n",
       "    </tr>\n",
       "    <tr>\n",
       "      <th>253</th>\n",
       "      <td>254</td>\n",
       "      <td>Dwi Febrianti</td>\n",
       "      <td>85.00</td>\n",
       "      <td>80.00</td>\n",
       "      <td>80.00</td>\n",
       "      <td>80.00</td>\n",
       "      <td>80.00</td>\n",
       "      <td>80.00</td>\n",
       "    </tr>\n",
       "  </tbody>\n",
       "</table>\n",
       "<p>254 rows × 8 columns</p>\n",
       "</div>"
      ],
      "text/plain": [
       "      NO                 NAMA  NILAI SKP  ORIENTASI  INTEGRITAS  KOMITMEN  \\\n",
       "0      1                 ADAM      96.70      91.00       90.00     90.00   \n",
       "1      2  AGUS KUSUMA WARDANA      83.67      90.00       85.00     80.00   \n",
       "2      3          AGUS SOFYAN      89.52      84.00       85.00     85.00   \n",
       "3      4                AHYAR      88.67      91.00       82.00     85.00   \n",
       "4      5     AMRIN JAYA WARDI      85.45      78.00       83.00     77.00   \n",
       "..   ...                  ...        ...        ...         ...       ...   \n",
       "249  250               Musleh      84.00      84.00       84.00     84.17   \n",
       "250  251           Fitra Hadi      88.00      86.00       86.05     87.42   \n",
       "251  252         Zulkarnaen M      89.00      86.00       86.00     86.00   \n",
       "252  253            Nur Sahan      82.00      84.83       85.00     85.17   \n",
       "253  254        Dwi Febrianti      85.00      80.00       80.00     80.00   \n",
       "\n",
       "     DISIPLIN  KERJASAMA  \n",
       "0       91.00      90.00  \n",
       "1       85.00      85.00  \n",
       "2       85.00      84.00  \n",
       "3       85.00      81.00  \n",
       "4       78.00      78.00  \n",
       "..        ...        ...  \n",
       "249     83.67      84.17  \n",
       "250     86.28      88.77  \n",
       "251     86.00      86.00  \n",
       "252     84.17      85.17  \n",
       "253     80.00      80.00  \n",
       "\n",
       "[254 rows x 8 columns]"
      ]
     },
     "execution_count": 43,
     "metadata": {},
     "output_type": "execute_result"
    }
   ],
   "source": [
    "import pandas as pd\n",
    "\n",
    "\n",
    "data = pd.read_csv('../data/DATA PENELITIAN GINA.csv', delimiter=\";\")\n",
    "\n",
    "print(data.shape)\n",
    "data"
   ]
  },
  {
   "cell_type": "code",
   "execution_count": 44,
   "id": "c456b4ac",
   "metadata": {},
   "outputs": [
    {
     "data": {
      "text/html": [
       "<div>\n",
       "<style scoped>\n",
       "    .dataframe tbody tr th:only-of-type {\n",
       "        vertical-align: middle;\n",
       "    }\n",
       "\n",
       "    .dataframe tbody tr th {\n",
       "        vertical-align: top;\n",
       "    }\n",
       "\n",
       "    .dataframe thead th {\n",
       "        text-align: right;\n",
       "    }\n",
       "</style>\n",
       "<table border=\"1\" class=\"dataframe\">\n",
       "  <thead>\n",
       "    <tr style=\"text-align: right;\">\n",
       "      <th></th>\n",
       "      <th>NILAI SKP</th>\n",
       "      <th>ORIENTASI</th>\n",
       "      <th>INTEGRITAS</th>\n",
       "      <th>KOMITMEN</th>\n",
       "      <th>DISIPLIN</th>\n",
       "      <th>KERJASAMA</th>\n",
       "    </tr>\n",
       "  </thead>\n",
       "  <tbody>\n",
       "    <tr>\n",
       "      <th>0</th>\n",
       "      <td>96.70</td>\n",
       "      <td>91.0</td>\n",
       "      <td>90.0</td>\n",
       "      <td>90.0</td>\n",
       "      <td>91.0</td>\n",
       "      <td>90.0</td>\n",
       "    </tr>\n",
       "    <tr>\n",
       "      <th>1</th>\n",
       "      <td>83.67</td>\n",
       "      <td>90.0</td>\n",
       "      <td>85.0</td>\n",
       "      <td>80.0</td>\n",
       "      <td>85.0</td>\n",
       "      <td>85.0</td>\n",
       "    </tr>\n",
       "    <tr>\n",
       "      <th>2</th>\n",
       "      <td>89.52</td>\n",
       "      <td>84.0</td>\n",
       "      <td>85.0</td>\n",
       "      <td>85.0</td>\n",
       "      <td>85.0</td>\n",
       "      <td>84.0</td>\n",
       "    </tr>\n",
       "    <tr>\n",
       "      <th>3</th>\n",
       "      <td>88.67</td>\n",
       "      <td>91.0</td>\n",
       "      <td>82.0</td>\n",
       "      <td>85.0</td>\n",
       "      <td>85.0</td>\n",
       "      <td>81.0</td>\n",
       "    </tr>\n",
       "    <tr>\n",
       "      <th>4</th>\n",
       "      <td>85.45</td>\n",
       "      <td>78.0</td>\n",
       "      <td>83.0</td>\n",
       "      <td>77.0</td>\n",
       "      <td>78.0</td>\n",
       "      <td>78.0</td>\n",
       "    </tr>\n",
       "  </tbody>\n",
       "</table>\n",
       "</div>"
      ],
      "text/plain": [
       "   NILAI SKP  ORIENTASI  INTEGRITAS  KOMITMEN  DISIPLIN  KERJASAMA\n",
       "0      96.70       91.0        90.0      90.0      91.0       90.0\n",
       "1      83.67       90.0        85.0      80.0      85.0       85.0\n",
       "2      89.52       84.0        85.0      85.0      85.0       84.0\n",
       "3      88.67       91.0        82.0      85.0      85.0       81.0\n",
       "4      85.45       78.0        83.0      77.0      78.0       78.0"
      ]
     },
     "execution_count": 44,
     "metadata": {},
     "output_type": "execute_result"
    }
   ],
   "source": [
    "datax = data[['NILAI SKP', 'ORIENTASI', 'INTEGRITAS', 'KOMITMEN', 'DISIPLIN', 'KERJASAMA']]\n",
    "datax.head()"
   ]
  },
  {
   "cell_type": "code",
   "execution_count": 45,
   "id": "a075747f",
   "metadata": {},
   "outputs": [
    {
     "data": {
      "text/html": [
       "<div>\n",
       "<style scoped>\n",
       "    .dataframe tbody tr th:only-of-type {\n",
       "        vertical-align: middle;\n",
       "    }\n",
       "\n",
       "    .dataframe tbody tr th {\n",
       "        vertical-align: top;\n",
       "    }\n",
       "\n",
       "    .dataframe thead th {\n",
       "        text-align: right;\n",
       "    }\n",
       "</style>\n",
       "<table border=\"1\" class=\"dataframe\">\n",
       "  <thead>\n",
       "    <tr style=\"text-align: right;\">\n",
       "      <th></th>\n",
       "      <th>NILAI SKP</th>\n",
       "      <th>ORIENTASI</th>\n",
       "      <th>INTEGRITAS</th>\n",
       "      <th>KOMITMEN</th>\n",
       "      <th>DISIPLIN</th>\n",
       "      <th>KERJASAMA</th>\n",
       "    </tr>\n",
       "  </thead>\n",
       "  <tbody>\n",
       "    <tr>\n",
       "      <th>count</th>\n",
       "      <td>254.000000</td>\n",
       "      <td>254.000000</td>\n",
       "      <td>254.000000</td>\n",
       "      <td>254.000000</td>\n",
       "      <td>254.000000</td>\n",
       "      <td>254.000000</td>\n",
       "    </tr>\n",
       "    <tr>\n",
       "      <th>mean</th>\n",
       "      <td>87.057874</td>\n",
       "      <td>83.953740</td>\n",
       "      <td>83.097047</td>\n",
       "      <td>82.903346</td>\n",
       "      <td>83.286732</td>\n",
       "      <td>83.071929</td>\n",
       "    </tr>\n",
       "    <tr>\n",
       "      <th>std</th>\n",
       "      <td>5.854388</td>\n",
       "      <td>4.169743</td>\n",
       "      <td>3.197799</td>\n",
       "      <td>3.145452</td>\n",
       "      <td>3.285836</td>\n",
       "      <td>3.379888</td>\n",
       "    </tr>\n",
       "    <tr>\n",
       "      <th>min</th>\n",
       "      <td>48.170000</td>\n",
       "      <td>77.500000</td>\n",
       "      <td>77.000000</td>\n",
       "      <td>77.000000</td>\n",
       "      <td>77.500000</td>\n",
       "      <td>76.000000</td>\n",
       "    </tr>\n",
       "    <tr>\n",
       "      <th>25%</th>\n",
       "      <td>85.330000</td>\n",
       "      <td>80.582500</td>\n",
       "      <td>80.542500</td>\n",
       "      <td>80.372500</td>\n",
       "      <td>80.500000</td>\n",
       "      <td>80.500000</td>\n",
       "    </tr>\n",
       "    <tr>\n",
       "      <th>50%</th>\n",
       "      <td>86.570000</td>\n",
       "      <td>83.000000</td>\n",
       "      <td>82.170000</td>\n",
       "      <td>82.000000</td>\n",
       "      <td>83.000000</td>\n",
       "      <td>82.000000</td>\n",
       "    </tr>\n",
       "    <tr>\n",
       "      <th>75%</th>\n",
       "      <td>88.352500</td>\n",
       "      <td>86.480000</td>\n",
       "      <td>85.000000</td>\n",
       "      <td>85.000000</td>\n",
       "      <td>85.187500</td>\n",
       "      <td>85.000000</td>\n",
       "    </tr>\n",
       "    <tr>\n",
       "      <th>max</th>\n",
       "      <td>130.920000</td>\n",
       "      <td>99.000000</td>\n",
       "      <td>93.000000</td>\n",
       "      <td>91.000000</td>\n",
       "      <td>93.000000</td>\n",
       "      <td>95.000000</td>\n",
       "    </tr>\n",
       "  </tbody>\n",
       "</table>\n",
       "</div>"
      ],
      "text/plain": [
       "        NILAI SKP   ORIENTASI  INTEGRITAS    KOMITMEN    DISIPLIN   KERJASAMA\n",
       "count  254.000000  254.000000  254.000000  254.000000  254.000000  254.000000\n",
       "mean    87.057874   83.953740   83.097047   82.903346   83.286732   83.071929\n",
       "std      5.854388    4.169743    3.197799    3.145452    3.285836    3.379888\n",
       "min     48.170000   77.500000   77.000000   77.000000   77.500000   76.000000\n",
       "25%     85.330000   80.582500   80.542500   80.372500   80.500000   80.500000\n",
       "50%     86.570000   83.000000   82.170000   82.000000   83.000000   82.000000\n",
       "75%     88.352500   86.480000   85.000000   85.000000   85.187500   85.000000\n",
       "max    130.920000   99.000000   93.000000   91.000000   93.000000   95.000000"
      ]
     },
     "execution_count": 45,
     "metadata": {},
     "output_type": "execute_result"
    }
   ],
   "source": [
    "datax.describe(include=\"all\")\n",
    "# data.mean()"
   ]
  },
  {
   "cell_type": "code",
   "execution_count": 73,
   "id": "cd999981",
   "metadata": {},
   "outputs": [
    {
     "name": "stdout",
     "output_type": "stream",
     "text": [
      "[[113.65        89.6         86.1         85.9         86.\n",
      "   86.        ]\n",
      " [ 85.89152174  81.00630435  80.99978261  80.72637681  80.87391304\n",
      "   80.68913043]\n",
      " [ 87.31009009  87.36378378  85.56918919  85.47486486  86.16423423\n",
      "   85.90243243]]\n"
     ]
    }
   ],
   "source": [
    "import matplotlib.pyplot as plt\n",
    "from sklearn.cluster import KMeans\n",
    "\n",
    "kmeans = KMeans(n_clusters=3, random_state=0).fit(datax)\n",
    "centroid = kmeans.cluster_centers_\n",
    "\n",
    "print(centroid)"
   ]
  },
  {
   "cell_type": "code",
   "execution_count": 74,
   "id": "9252b67f",
   "metadata": {},
   "outputs": [
    {
     "data": {
      "text/plain": [
       "array([2, 2, 2, 2, 1, 1, 2, 1, 2, 1, 1, 1, 2, 1, 1, 1, 2, 1, 2, 2, 1, 1,\n",
       "       1, 2, 1, 1, 1, 1, 2, 1, 2, 1, 2, 2, 1, 1, 2, 1, 2, 1, 1, 1, 1, 1,\n",
       "       1, 1, 1, 2, 1, 1, 1, 2, 1, 2, 2, 1, 2, 2, 2, 1, 1, 1, 1, 1, 2, 1,\n",
       "       2, 1, 1, 1, 1, 2, 1, 2, 1, 2, 1, 2, 2, 1, 2, 2, 1, 1, 1, 2, 2, 0,\n",
       "       2, 1, 1, 1, 1, 2, 1, 1, 2, 1, 2, 1, 1, 1, 2, 1, 1, 1, 1, 2, 1, 2,\n",
       "       2, 1, 1, 1, 0, 2, 1, 2, 2, 2, 1, 2, 1, 1, 1, 1, 1, 1, 1, 1, 1, 1,\n",
       "       2, 2, 0, 1, 2, 0, 1, 1, 2, 1, 2, 1, 2, 2, 1, 1, 1, 1, 2, 1, 0, 1,\n",
       "       1, 2, 2, 2, 1, 1, 1, 1, 2, 2, 1, 1, 1, 2, 2, 2, 2, 2, 2, 2, 2, 1,\n",
       "       1, 1, 1, 2, 2, 1, 2, 2, 2, 2, 2, 2, 1, 2, 2, 2, 1, 2, 1, 1, 1, 2,\n",
       "       1, 1, 1, 1, 2, 2, 1, 1, 1, 1, 1, 2, 2, 2, 2, 2, 2, 2, 1, 1, 1, 1,\n",
       "       1, 2, 1, 2, 1, 1, 2, 1, 1, 2, 1, 1, 2, 1, 2, 2, 2, 1, 1, 2, 2, 1,\n",
       "       1, 2, 2, 2, 2, 2, 2, 2, 2, 2, 2, 1], dtype=int32)"
      ]
     },
     "execution_count": 74,
     "metadata": {},
     "output_type": "execute_result"
    }
   ],
   "source": [
    "kmeans.labels_"
   ]
  },
  {
   "cell_type": "code",
   "execution_count": 77,
   "id": "6e53a4fd",
   "metadata": {},
   "outputs": [
    {
     "data": {
      "image/png": "[encoded data removed]",
      "text/plain": [
       "<Figure size 640x480 with 1 Axes>"
      ]
     },
     "metadata": {},
     "output_type": "display_data"
    }
   ],
   "source": [
    "wcss = []\n",
    "for i in range(1, 11):\n",
    "    kmeans = KMeans(n_clusters=i, init='k-means++', max_iter=300, n_init=10, random_state=0)\n",
    "    kmeans.fit(datax)\n",
    "    wcss.append(kmeans.inertia_)\n",
    "plt.plot(range(1, 11), wcss)\n",
    "plt.title('Elbow Method')\n",
    "plt.xlabel('Number of clusters')\n",
    "plt.ylabel('WCSS')\n",
    "plt.show()"
   ]
  },
  {
   "cell_type": "code",
   "execution_count": 81,
   "id": "47986379",
   "metadata": {},
   "outputs": [
    {
     "data": {
      "image/png": "[encoded data removed]",
      "text/plain": [
       "<Figure size 640x480 with 1 Axes>"
      ]
     },
     "metadata": {},
     "output_type": "display_data"
    }
   ],
   "source": [
    "kmm = KMeans(n_clusters=2, init='k-means++', max_iter=300, n_init=10, random_state=0)\n",
    "pred_y = kmm.fit_predict(datax)\n",
    "plt.scatter(datax['ORIENTASI'], datax['INTEGRITAS'])\n",
    "plt.scatter(kmm.cluster_centers_[:, 0], kmm.cluster_centers_[:, 1], s=60, c='red')\n",
    "plt.show()"
   ]
  },
  {
   "cell_type": "code",
   "execution_count": 75,
   "id": "b327c41f",
   "metadata": {},
   "outputs": [
    {
     "name": "stdout",
     "output_type": "stream",
     "text": [
      "Cluster Satu :  NILAI SKP     105.33\n",
      "ORIENTASI      91.00\n",
      "INTEGRITAS     85.00\n",
      "KOMITMEN       85.00\n",
      "DISIPLIN       85.00\n",
      "KERJASAMA      85.00\n",
      "Name: 87, dtype: float64\n",
      "Cluster Satu :  NILAI SKP     130.92\n",
      "ORIENTASI      92.00\n",
      "INTEGRITAS     91.00\n",
      "KOMITMEN       90.00\n",
      "DISIPLIN       90.00\n",
      "KERJASAMA      89.00\n",
      "Name: 114, dtype: float64\n",
      "Cluster Satu :  NILAI SKP     106.27\n",
      "ORIENTASI      84.00\n",
      "INTEGRITAS     84.00\n",
      "KOMITMEN       84.00\n",
      "DISIPLIN       84.00\n",
      "KERJASAMA      85.00\n",
      "Name: 134, dtype: float64\n",
      "Cluster Satu :  NILAI SKP     120.4\n",
      "ORIENTASI      90.0\n",
      "INTEGRITAS     85.5\n",
      "KOMITMEN       85.5\n",
      "DISIPLIN       86.0\n",
      "KERJASAMA      86.0\n",
      "Name: 137, dtype: float64\n",
      "Cluster Satu :  NILAI SKP     105.33\n",
      "ORIENTASI      91.00\n",
      "INTEGRITAS     85.00\n",
      "KOMITMEN       85.00\n",
      "DISIPLIN       85.00\n",
      "KERJASAMA      85.00\n",
      "Name: 152, dtype: float64\n"
     ]
    }
   ],
   "source": [
    "for i in range(datax.shape[0]):\n",
    "    if kmeans.labels_[i] == 0:\n",
    "        print(\"Cluster Satu : \", datax.iloc[i])"
   ]
  },
  {
   "cell_type": "code",
   "execution_count": 76,
   "id": "daef4aee",
   "metadata": {},
   "outputs": [
    {
     "data": {
      "image/png": "[encoded data removed]",
      "text/plain": [
       "<Figure size 640x480 with 1 Axes>"
      ]
     },
     "metadata": {},
     "output_type": "display_data"
    }
   ],
   "source": [
    "plt.scatter(datax['ORIENTASI'], datax['INTEGRITAS'], c= kmeans.labels_.astype(float), s=50, alpha=0.5)\n",
    "plt.scatter(centroid[:, 0], centroid[:, 1], c='red', s=50)\n",
    "plt.show()"
   ]
  },
  {
   "cell_type": "code",
   "execution_count": 66,
   "id": "f79fde63",
   "metadata": {},
   "outputs": [
    {
     "data": {
      "text/plain": [
       "array([87.29539823, 80.96963235, 89.6       ])"
      ]
     },
     "execution_count": 66,
     "metadata": {},
     "output_type": "execute_result"
    }
   ],
   "source": [
    "centroid[:,1]"
   ]
  },
  {
   "cell_type": "code",
   "execution_count": null,
   "id": "f21e0e28",
   "metadata": {},
   "outputs": [],
   "source": []
  }
 ],
 "metadata": {
  "kernelspec": {
   "display_name": "Python 3 (ipykernel)",
   "language": "python",
   "name": "python3"
  },
  "language_info": {
   "codemirror_mode": {
    "name": "ipython",
    "version": 3
   },
   "file_extension": ".py",
   "mimetype": "text/x-python",
   "name": "python",
   "nbconvert_exporter": "python",
   "pygments_lexer": "ipython3",
   "version": "3.7.3"
  }
 },
 "nbformat": 4,
 "nbformat_minor": 5
}
